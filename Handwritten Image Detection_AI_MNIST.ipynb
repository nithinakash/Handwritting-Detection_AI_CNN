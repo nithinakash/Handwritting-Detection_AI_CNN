{
 "cells": [
  {
   "cell_type": "markdown",
   "id": "98698a91",
   "metadata": {},
   "source": [
    "### Packages Required"
   ]
  },
  {
   "cell_type": "code",
   "execution_count": 1,
   "id": "b626620b",
   "metadata": {},
   "outputs": [],
   "source": [
    "import numpy as np\n",
    "import pandas as pd\n",
    "import matplotlib.pyplot as plt"
   ]
  },
  {
   "cell_type": "code",
   "execution_count": 54,
   "id": "83558813",
   "metadata": {},
   "outputs": [],
   "source": [
    "import keras\n",
    "from keras.models import Sequential\n",
    "from keras.layers import Dense,Dropout,Flatten,Conv2D,MaxPooling2D\n",
    "from keras.utils import to_categorical\n",
    "from keras import backend as K\n",
    "from keras.datasets import mnist"
   ]
  },
  {
   "cell_type": "markdown",
   "id": "e6d81b96",
   "metadata": {},
   "source": [
    "### Datasets"
   ]
  },
  {
   "cell_type": "code",
   "execution_count": 55,
   "id": "89e78ac8",
   "metadata": {},
   "outputs": [],
   "source": [
    "# input image dimensions\n",
    "img_rows, img_cols = 28, 28"
   ]
  },
  {
   "cell_type": "code",
   "execution_count": 56,
   "id": "26e176ea",
   "metadata": {},
   "outputs": [],
   "source": [
    "(train_x,train_y),(test_x,test_y) = mnist.load_data()"
   ]
  },
  {
   "cell_type": "code",
   "execution_count": 57,
   "id": "abbd76fa",
   "metadata": {},
   "outputs": [],
   "source": [
    "classes = np.unique(train_y)\n",
    "classes_num = len(classes)"
   ]
  },
  {
   "cell_type": "code",
   "execution_count": 58,
   "id": "639ccba8",
   "metadata": {},
   "outputs": [
    {
     "data": {
      "text/plain": [
       "Text(0.5, 1.0, 'Truth : 5')"
      ]
     },
     "execution_count": 58,
     "metadata": {},
     "output_type": "execute_result"
    },
    {
     "data": {
      "image/png": "[encoded data removed]",
      "text/plain": [
       "<Figure size 432x288 with 1 Axes>"
      ]
     },
     "metadata": {
      "needs_background": "light"
     },
     "output_type": "display_data"
    }
   ],
   "source": [
    "plt.imshow(train_x[0,:,:],cmap='gray')\n",
    "plt.title('Truth : {}'.format(train_y[0]))"
   ]
  },
  {
   "cell_type": "code",
   "execution_count": 59,
   "id": "c9b09f01",
   "metadata": {},
   "outputs": [
    {
     "data": {
      "text/plain": [
       "Text(0.5, 1.0, 'Truth : 7')"
      ]
     },
     "execution_count": 59,
     "metadata": {},
     "output_type": "execute_result"
    },
    {
     "data": {
      "image/png": "[encoded data removed]",
      "text/plain": [
       "<Figure size 432x288 with 1 Axes>"
      ]
     },
     "metadata": {
      "needs_background": "light"
     },
     "output_type": "display_data"
    }
   ],
   "source": [
    "plt.imshow(test_x[0,:,:],cmap='gray')\n",
    "plt.title('Truth : {}'.format(test_y[0]))"
   ]
  },
  {
   "cell_type": "code",
   "execution_count": 60,
   "id": "ebd5a437",
   "metadata": {},
   "outputs": [],
   "source": [
    "if K.image_data_format() == 'channels_first':\n",
    "    train_x = train_x.reshape(train_x.shape[0], 1, img_rows, img_cols)\n",
    "    test_x = test_x.reshape(test_x.shape[0], 1, img_rows, img_cols)\n",
    "    input_shape = (1, img_rows, img_cols)\n",
    "else:\n",
    "    train_x = train_x.reshape(train_x.shape[0], img_rows, img_cols, 1)\n",
    "    test_x = test_x.reshape(test_x.shape[0], img_rows, img_cols, 1)\n",
    "    input_shape = (img_rows, img_cols, 1)"
   ]
  },
  {
   "cell_type": "code",
   "execution_count": 61,
   "id": "3c527e84",
   "metadata": {},
   "outputs": [],
   "source": [
    "#Convert the data to float and scale the values between 0 to 1.\n",
    "train_x = train_x.astype('float32')\n",
    "test_x = test_x.astype('float32')"
   ]
  },
  {
   "cell_type": "code",
   "execution_count": 18,
   "id": "f5fc6a0e",
   "metadata": {},
   "outputs": [],
   "source": [
    "train_x /= 255\n",
    "test_x /= 255"
   ]
  },
  {
   "cell_type": "code",
   "execution_count": 62,
   "id": "fe2e28b8",
   "metadata": {},
   "outputs": [],
   "source": [
    "# convert class vectors to binary class matrices For target variables since it is multinomial classification\n",
    "train_y = keras.utils.to_categorical(train_y, classes_num)\n",
    "test_y = keras.utils.to_categorical(test_y, classes_num)"
   ]
  },
  {
   "cell_type": "markdown",
   "id": "451e4a24",
   "metadata": {},
   "source": [
    "### Model Building"
   ]
  },
  {
   "cell_type": "code",
   "execution_count": 63,
   "id": "531c1b33",
   "metadata": {},
   "outputs": [],
   "source": [
    "#Input Parameters\n",
    "batch_size = 128\n",
    "num_classes = classes_num\n",
    "epochs = 3"
   ]
  },
  {
   "cell_type": "code",
   "execution_count": 64,
   "id": "47136b03",
   "metadata": {},
   "outputs": [],
   "source": [
    "model = Sequential()  # Initialization of network -Inputlayer\n",
    "model.add(Conv2D(32, kernel_size=(3, 3), activation='relu', input_shape=input_shape)) # Convolution layer 1\n",
    "model.add(Conv2D(64, kernel_size=(3, 3), activation='relu'))                          #Convolution Layer 2\n",
    "model.add(MaxPooling2D(pool_size=(2, 2)))                                             #Pooling layer\n",
    "#model.add(Dropout(0.25))                                                              #Dropout layer\n",
    "model.add(Flatten())                                                                  #Flatten Layer\n",
    "model.add(Dense(128, activation='relu'))                                              #Fully connected layer\n",
    "#model.add(Dropout(0.5))                                                               #Dropout layer\n",
    "model.add(Dense(num_classes, activation='softmax'))  "
   ]
  },
  {
   "cell_type": "code",
   "execution_count": 65,
   "id": "de41b8c1",
   "metadata": {},
   "outputs": [
    {
     "name": "stdout",
     "output_type": "stream",
     "text": [
      "Model: \"sequential_1\"\n",
      "_________________________________________________________________\n",
      " Layer (type)                Output Shape              Param #   \n",
      "=================================================================\n",
      " conv2d_2 (Conv2D)           (None, 26, 26, 32)        320       \n",
      "                                                                 \n",
      " conv2d_3 (Conv2D)           (None, 24, 24, 64)        18496     \n",
      "                                                                 \n",
      " max_pooling2d_1 (MaxPooling  (None, 12, 12, 64)       0         \n",
      " 2D)                                                             \n",
      "                                                                 \n",
      " flatten_1 (Flatten)         (None, 9216)              0         \n",
      "                                                                 \n",
      " dense_2 (Dense)             (None, 128)               1179776   \n",
      "                                                                 \n",
      " dense_3 (Dense)             (None, 10)                1290      \n",
      "                                                                 \n",
      "=================================================================\n",
      "Total params: 1,199,882\n",
      "Trainable params: 1,199,882\n",
      "Non-trainable params: 0\n",
      "_________________________________________________________________\n",
      "None\n"
     ]
    }
   ],
   "source": [
    "print(model.summary())"
   ]
  },
  {
   "cell_type": "code",
   "execution_count": 66,
   "id": "d5c1a28d",
   "metadata": {},
   "outputs": [],
   "source": [
    "#Model compilation\n",
    "model.compile(loss=keras.losses.categorical_crossentropy,\n",
    "              optimizer=keras.optimizers.Adadelta(),\n",
    "              metrics=['accuracy'])"
   ]
  },
  {
   "cell_type": "code",
   "execution_count": 67,
   "id": "307d329b",
   "metadata": {},
   "outputs": [
    {
     "name": "stdout",
     "output_type": "stream",
     "text": [
      "Epoch 1/3\n",
      "100/100 [==============================] - 34s 338ms/step - loss: 13.6508 - accuracy: 0.1792 - val_loss: 8.8062 - val_accuracy: 0.2418\n",
      "Epoch 2/3\n",
      "100/100 [==============================] - 37s 370ms/step - loss: 6.6328 - accuracy: 0.3250 - val_loss: 4.7201 - val_accuracy: 0.4200\n",
      "Epoch 3/3\n",
      "100/100 [==============================] - 37s 371ms/step - loss: 3.8685 - accuracy: 0.4897 - val_loss: 2.9304 - val_accuracy: 0.5666\n"
     ]
    },
    {
     "data": {
      "text/plain": [
       "<keras.callbacks.History at 0x181ac1cf850>"
      ]
     },
     "execution_count": 67,
     "metadata": {},
     "output_type": "execute_result"
    }
   ],
   "source": [
    "model.fit(train_x, train_y,\n",
    "          batch_size=600,\n",
    "          epochs=3,\n",
    "          verbose=1,\n",
    "          validation_data=(test_x, test_y))"
   ]
  },
  {
   "cell_type": "code",
   "execution_count": 68,
   "id": "6a026538",
   "metadata": {},
   "outputs": [
    {
     "data": {
      "text/plain": [
       "[array([[[[-0.11911906, -0.0154975 ,  0.06165205,  0.0497004 ,\n",
       "           -0.1249995 , -0.03150998,  0.1003745 , -0.0980298 ,\n",
       "            0.13257356,  0.04888259, -0.04543788, -0.01123797,\n",
       "           -0.0306556 , -0.0642008 ,  0.13266037, -0.0640946 ,\n",
       "           -0.1258287 ,  0.02929354, -0.11148174, -0.11878909,\n",
       "            0.10456083,  0.06910788, -0.08198199, -0.13335678,\n",
       "           -0.05680349, -0.0265431 , -0.107978  ,  0.09682666,\n",
       "            0.05765012, -0.03626822, -0.1256449 , -0.09354425]],\n",
       " \n",
       "         [[ 0.09918682,  0.11460163,  0.01570114,  0.06659481,\n",
       "            0.07859343, -0.10770404, -0.04663756,  0.12885435,\n",
       "           -0.122982  ,  0.01167516, -0.03896963,  0.00145837,\n",
       "            0.07343113,  0.05127172,  0.03113477, -0.12783495,\n",
       "            0.11606517,  0.04447745, -0.08457492, -0.01360324,\n",
       "           -0.01698028, -0.05771761,  0.04151914,  0.07729232,\n",
       "            0.09686177,  0.09862801, -0.12632309, -0.02048457,\n",
       "            0.05083283,  0.09622177,  0.11782444, -0.07077851]],\n",
       " \n",
       "         [[ 0.11930532,  0.13038297, -0.12150258, -0.06475767,\n",
       "            0.01952375,  0.02723663, -0.0447778 , -0.05181728,\n",
       "           -0.10644925,  0.07094483,  0.01409395,  0.10804082,\n",
       "            0.107164  ,  0.06643736, -0.04083782, -0.07263931,\n",
       "           -0.13101722,  0.131295  ,  0.12243009, -0.08138619,\n",
       "            0.14003003,  0.00668468, -0.05076616,  0.09701369,\n",
       "            0.12313499,  0.04290517, -0.11938614,  0.09554894,\n",
       "            0.00602486,  0.02872092, -0.08913235, -0.07479618]]],\n",
       " \n",
       " \n",
       "        [[[ 0.11772355,  0.12668438,  0.07281271,  0.09502545,\n",
       "           -0.10626677,  0.13837123, -0.035782  ,  0.12197284,\n",
       "           -0.12334879,  0.12145721, -0.00086578, -0.0108203 ,\n",
       "            0.09869011, -0.04229387, -0.00660706, -0.04697699,\n",
       "           -0.03056841, -0.06557211,  0.08904494, -0.14003402,\n",
       "           -0.05989936,  0.10251579, -0.08571583,  0.08325485,\n",
       "           -0.09307998,  0.03781209,  0.0453079 , -0.09534673,\n",
       "            0.03839643,  0.10760888, -0.02179309,  0.14003849]],\n",
       " \n",
       "         [[ 0.07274344,  0.01582153,  0.03763353, -0.07096396,\n",
       "            0.10086784, -0.11859573,  0.00553715,  0.09944358,\n",
       "            0.00172159, -0.1356398 ,  0.12300853,  0.01040147,\n",
       "            0.01277586, -0.07110802,  0.12796623,  0.10221059,\n",
       "            0.12651984,  0.13130604, -0.0736265 , -0.10857297,\n",
       "            0.09969502,  0.12336097, -0.01929366, -0.10543214,\n",
       "           -0.04446574, -0.08512915,  0.13357393,  0.10532852,\n",
       "           -0.08705973, -0.0620706 ,  0.03458882, -0.04406038]],\n",
       " \n",
       "         [[-0.05609214, -0.08474599, -0.06141035, -0.12630501,\n",
       "           -0.00907201, -0.0427313 ,  0.12854566, -0.05446905,\n",
       "            0.09791701, -0.06710096, -0.00129057,  0.11506176,\n",
       "            0.12677   , -0.00623842,  0.06790134,  0.06660957,\n",
       "           -0.13961546, -0.11973456, -0.03829368,  0.09101309,\n",
       "           -0.02205852, -0.06827612,  0.02286982, -0.09707976,\n",
       "            0.09183493, -0.13726884, -0.03884703,  0.05848723,\n",
       "           -0.10588188,  0.07530548,  0.08340737, -0.13719372]]],\n",
       " \n",
       " \n",
       "        [[[ 0.07258379,  0.01630496,  0.08578223,  0.04381911,\n",
       "            0.05158584,  0.04283237,  0.00626139,  0.06937845,\n",
       "            0.03243889, -0.01645659,  0.01164479,  0.09582563,\n",
       "            0.1403841 ,  0.06153202,  0.02236858, -0.05410977,\n",
       "           -0.06952935, -0.14134246,  0.09542163,  0.05720761,\n",
       "            0.12005172, -0.07563359,  0.06235217, -0.07437931,\n",
       "           -0.00846481,  0.10371493, -0.02928205, -0.08595076,\n",
       "            0.02714507, -0.05330436, -0.08426978, -0.12492762]],\n",
       " \n",
       "         [[-0.11589143,  0.00201273, -0.10933112,  0.07657964,\n",
       "           -0.13635145, -0.04764469,  0.06383348, -0.02679596,\n",
       "           -0.07319331, -0.00598526,  0.02115028, -0.12817878,\n",
       "            0.05567471,  0.11187443, -0.10276366,  0.10216996,\n",
       "           -0.05041612, -0.09803764, -0.09988029,  0.13551235,\n",
       "            0.02869639,  0.0757343 , -0.03130015,  0.06772885,\n",
       "           -0.03662615,  0.02320079,  0.03263514, -0.07782583,\n",
       "           -0.04013268, -0.10075341,  0.12099912, -0.10215165]],\n",
       " \n",
       "         [[-0.09586954, -0.14004956, -0.09756917,  0.05530199,\n",
       "            0.10145369,  0.02455492, -0.1063381 ,  0.05983356,\n",
       "            0.09497814, -0.01978818, -0.09992482,  0.11088236,\n",
       "           -0.04235573, -0.07001155, -0.00179623,  0.03315517,\n",
       "           -0.03921747,  0.06904457,  0.1332254 ,  0.09957367,\n",
       "           -0.07842612,  0.02441586, -0.03357098,  0.04181899,\n",
       "            0.04501498,  0.00143749,  0.12597075,  0.10075469,\n",
       "            0.01708054, -0.12582189,  0.06336281, -0.0854354 ]]]],\n",
       "       dtype=float32),\n",
       " array([ 9.8388933e-05, -1.1530749e-04, -2.2957439e-04, -2.5786294e-04,\n",
       "         1.4268509e-05, -4.8694190e-05, -2.1183872e-04, -2.0556795e-04,\n",
       "        -1.3616450e-06,  2.4425032e-04, -1.1227550e-04, -2.4583581e-04,\n",
       "        -2.0108702e-04,  6.9167584e-07,  6.2991581e-05, -1.5083753e-04,\n",
       "        -1.2649891e-04, -2.1440721e-04, -1.4521072e-04,  5.4495373e-05,\n",
       "        -6.3044194e-05, -2.7085579e-04,  1.9954184e-04,  1.3990463e-04,\n",
       "         1.6208514e-07, -1.0576830e-04,  6.8040390e-07, -9.4684357e-05,\n",
       "        -1.5327874e-04,  3.3796723e-06, -4.2951950e-05,  2.5675233e-04],\n",
       "       dtype=float32),\n",
       " array([[[[-0.0613334 , -0.0096741 , -0.07627367, ..., -0.07685696,\n",
       "            0.04195515, -0.02543269],\n",
       "          [ 0.04773172,  0.05082792, -0.06655078, ...,  0.05371743,\n",
       "           -0.06364387, -0.01530071],\n",
       "          [ 0.03395854, -0.03940436,  0.08324492, ...,  0.04124337,\n",
       "           -0.06996453, -0.06026974],\n",
       "          ...,\n",
       "          [-0.03603096,  0.00502257,  0.0519723 , ..., -0.02353531,\n",
       "           -0.02371286,  0.01637899],\n",
       "          [ 0.05751282, -0.0076058 , -0.02077356, ..., -0.00819215,\n",
       "           -0.02536476, -0.00508291],\n",
       "          [ 0.02492964,  0.02851482,  0.06504241, ..., -0.07058749,\n",
       "           -0.07218802,  0.01088802]],\n",
       " \n",
       "         [[-0.04397954,  0.05009945,  0.07020941, ..., -0.04126266,\n",
       "           -0.02407341, -0.03787214],\n",
       "          [-0.05436549,  0.02496526, -0.0425557 , ..., -0.01880691,\n",
       "            0.01327734,  0.01694541],\n",
       "          [ 0.04698343, -0.04587531, -0.01699983, ...,  0.061906  ,\n",
       "            0.01818866,  0.02168806],\n",
       "          ...,\n",
       "          [ 0.0062653 ,  0.01582561, -0.03109301, ..., -0.06117535,\n",
       "           -0.02401986,  0.04374763],\n",
       "          [ 0.03059646,  0.0732723 , -0.02062786, ...,  0.0444779 ,\n",
       "            0.05902967, -0.04580206],\n",
       "          [ 0.04340207, -0.06572266,  0.02439721, ..., -0.02425606,\n",
       "           -0.07668357, -0.04963443]],\n",
       " \n",
       "         [[ 0.05338949, -0.04777023, -0.07547892, ...,  0.04298475,\n",
       "            0.03347157,  0.07000445],\n",
       "          [ 0.07626426,  0.00650467,  0.05953418, ...,  0.02817179,\n",
       "            0.0411737 ,  0.0812955 ],\n",
       "          [-0.02132173, -0.02662989, -0.00199234, ..., -0.07268722,\n",
       "           -0.02621275, -0.03039086],\n",
       "          ...,\n",
       "          [-0.01816781,  0.07599568,  0.06233192, ...,  0.08132589,\n",
       "           -0.0429313 ,  0.07383996],\n",
       "          [ 0.03967736, -0.044313  ,  0.01318805, ..., -0.06036714,\n",
       "            0.05951946,  0.05544474],\n",
       "          [-0.02932556,  0.00112024,  0.01030364, ...,  0.02742351,\n",
       "            0.01753155, -0.08311743]]],\n",
       " \n",
       " \n",
       "        [[[-0.03093583,  0.03484743, -0.03592993, ...,  0.02538812,\n",
       "            0.04650415, -0.04190179],\n",
       "          [-0.03953827,  0.00546233, -0.0735632 , ...,  0.04998975,\n",
       "           -0.06489328, -0.05392065],\n",
       "          [-0.06257152,  0.05935627, -0.02409377, ...,  0.00812069,\n",
       "           -0.05980103, -0.00710666],\n",
       "          ...,\n",
       "          [ 0.02549037,  0.07072379,  0.00973095, ..., -0.03273228,\n",
       "           -0.07571087,  0.00992429],\n",
       "          [-0.04269301,  0.03871605,  0.01131815, ..., -0.03377273,\n",
       "            0.01538859,  0.06548717],\n",
       "          [ 0.02210122,  0.03617819,  0.02222463, ...,  0.05839054,\n",
       "            0.05012011,  0.0795676 ]],\n",
       " \n",
       "         [[-0.03598708, -0.02606087,  0.06410982, ..., -0.0154885 ,\n",
       "            0.03689435, -0.03495613],\n",
       "          [ 0.01696377, -0.03074992,  0.00203849, ..., -0.06705748,\n",
       "            0.03297865, -0.08118044],\n",
       "          [ 0.05137014,  0.02201583,  0.00791163, ...,  0.02766815,\n",
       "           -0.05580122,  0.01596335],\n",
       "          ...,\n",
       "          [-0.03436722,  0.07771753,  0.06667002, ..., -0.02200497,\n",
       "            0.08258081,  0.00285844],\n",
       "          [-0.050556  ,  0.0510165 , -0.01127823, ..., -0.04975113,\n",
       "           -0.04943997, -0.02829561],\n",
       "          [ 0.04372088,  0.0691495 ,  0.05068051, ..., -0.03364373,\n",
       "            0.00028138,  0.07192258]],\n",
       " \n",
       "         [[-0.07555316, -0.04304494, -0.04619495, ...,  0.00565604,\n",
       "           -0.07663907, -0.04593908],\n",
       "          [ 0.07571084,  0.04106651,  0.00402342, ...,  0.03746742,\n",
       "            0.01663736, -0.06597052],\n",
       "          [ 0.0420718 ,  0.06616616, -0.03901039, ..., -0.04794751,\n",
       "            0.04154583,  0.06305753],\n",
       "          ...,\n",
       "          [-0.07820385,  0.03596228, -0.00698199, ...,  0.07548537,\n",
       "           -0.05100818, -0.06093464],\n",
       "          [-0.01378398, -0.08141283, -0.03107604, ...,  0.02344907,\n",
       "           -0.05417581,  0.01257898],\n",
       "          [ 0.07472065, -0.067266  ,  0.02631343, ...,  0.07879811,\n",
       "            0.05701975,  0.05083974]]],\n",
       " \n",
       " \n",
       "        [[[-0.05180216, -0.03174118, -0.01873796, ...,  0.0190012 ,\n",
       "            0.08182251, -0.0429932 ],\n",
       "          [ 0.02081852,  0.02055288, -0.02962225, ..., -0.04607855,\n",
       "           -0.05192164,  0.01384773],\n",
       "          [-0.03448052,  0.00442827,  0.0607398 , ..., -0.0443495 ,\n",
       "            0.05146313, -0.02765502],\n",
       "          ...,\n",
       "          [ 0.08242618, -0.07041574,  0.07189964, ...,  0.02996046,\n",
       "            0.02141473, -0.08251855],\n",
       "          [-0.00881355,  0.03662011, -0.07586071, ..., -0.02608635,\n",
       "           -0.0203153 , -0.05527281],\n",
       "          [-0.06277841,  0.06951591, -0.01759029, ...,  0.02018129,\n",
       "            0.06456839, -0.06904487]],\n",
       " \n",
       "         [[ 0.05370549,  0.07312652,  0.01055654, ..., -0.04156338,\n",
       "            0.03537608, -0.04930905],\n",
       "          [ 0.07617357, -0.05962966,  0.03884861, ..., -0.01573467,\n",
       "           -0.04670135, -0.03300233],\n",
       "          [-0.00765891,  0.04345344, -0.0438479 , ..., -0.01888747,\n",
       "           -0.008303  ,  0.0376953 ],\n",
       "          ...,\n",
       "          [-0.01872532,  0.0025086 , -0.02685866, ..., -0.08152785,\n",
       "           -0.06484257,  0.08038025],\n",
       "          [ 0.06695341, -0.01675634, -0.06354819, ...,  0.0749182 ,\n",
       "           -0.08333391,  0.06694948],\n",
       "          [-0.04960205,  0.04163895, -0.02115376, ...,  0.05625015,\n",
       "            0.04632491,  0.01271945]],\n",
       " \n",
       "         [[-0.06338878, -0.00305425,  0.00270282, ...,  0.05672526,\n",
       "           -0.00034726,  0.03068716],\n",
       "          [ 0.03810253,  0.00262651, -0.06131445, ..., -0.00833521,\n",
       "            0.03124346, -0.06766077],\n",
       "          [ 0.07065903,  0.04285586, -0.0707295 , ...,  0.01048391,\n",
       "            0.00139963, -0.01675834],\n",
       "          ...,\n",
       "          [-0.00359387, -0.00246743, -0.07684989, ..., -0.02739407,\n",
       "           -0.02491073, -0.04624655],\n",
       "          [-0.05585343,  0.02705856,  0.05136941, ...,  0.00045026,\n",
       "           -0.07815953, -0.00362886],\n",
       "          [ 0.01660289, -0.02057311,  0.03711728, ...,  0.03604609,\n",
       "           -0.05912789,  0.05958151]]]], dtype=float32),\n",
       " array([-4.12949084e-05,  2.93032383e-04,  3.29430070e-04, -1.91252082e-04,\n",
       "         2.08289348e-04, -2.33356463e-04, -2.97362531e-05,  5.04099065e-04,\n",
       "        -1.62487049e-05, -4.28164967e-05, -1.46758452e-04, -2.38240289e-04,\n",
       "         2.67705880e-04,  2.91227596e-04, -1.87567457e-06,  8.92649259e-05,\n",
       "         2.31346057e-04,  3.96840507e-04,  2.02372667e-05,  1.69718973e-04,\n",
       "         1.69860665e-04, -2.04959622e-04, -2.98558531e-04, -2.18631307e-04,\n",
       "        -9.63301645e-05,  8.24231247e-05,  4.57025417e-05,  2.56424450e-04,\n",
       "         3.29855684e-04, -1.55163711e-04, -1.81412630e-04,  1.64643556e-04,\n",
       "        -1.24633021e-04, -1.44568885e-05,  2.54642015e-04, -4.39849973e-05,\n",
       "        -1.87181853e-04, -1.82955831e-04,  2.12791929e-04, -9.42236074e-05,\n",
       "        -1.40550168e-04,  1.99399758e-04, -1.71906824e-04,  2.68595148e-04,\n",
       "         8.08810510e-05,  6.45439213e-05,  3.52345436e-04, -2.85830592e-05,\n",
       "         1.57773786e-04,  3.33559983e-05,  1.29522610e-04, -7.10480672e-05,\n",
       "        -1.16152834e-04,  2.50935816e-04, -5.47680829e-05,  4.32641536e-05,\n",
       "         1.87217258e-04,  1.45077123e-04, -5.66856834e-05,  1.94554916e-04,\n",
       "        -6.81247111e-05,  2.08681202e-04,  3.05845286e-04,  2.62584683e-04],\n",
       "       dtype=float32),\n",
       " array([[-0.0086811 , -0.01684172, -0.0166202 , ..., -0.02489851,\n",
       "         -0.01560061, -0.00552505],\n",
       "        [-0.00502409,  0.00270435, -0.00294805, ...,  0.01513766,\n",
       "          0.01047892,  0.01904791],\n",
       "        [ 0.005773  , -0.00589528, -0.00484519, ..., -0.00781119,\n",
       "          0.00977504, -0.01121177],\n",
       "        ...,\n",
       "        [-0.00263002, -0.02348927,  0.00444514, ...,  0.0231039 ,\n",
       "          0.00188839, -0.0102419 ],\n",
       "        [ 0.01327573, -0.02515223,  0.01512071, ...,  0.00632592,\n",
       "         -0.01539668, -0.00637057],\n",
       "        [ 0.00358846, -0.00086878, -0.01336778, ...,  0.01359631,\n",
       "         -0.01811638,  0.00504855]], dtype=float32),\n",
       " array([-2.36900290e-04, -1.33997688e-04,  4.36950184e-04,  3.15036741e-04,\n",
       "        -1.61022865e-04, -1.11722300e-04, -1.57172690e-05,  1.08332752e-04,\n",
       "         1.69885679e-04, -1.68012688e-04, -1.23528444e-04,  1.65074496e-04,\n",
       "         1.27348176e-04,  2.33037834e-04, -1.51242944e-04, -2.05934746e-04,\n",
       "        -5.11478083e-06, -1.05696439e-04, -1.21239587e-04, -3.97776857e-05,\n",
       "        -2.55516177e-04,  2.20929331e-04,  4.12748050e-04, -1.71061532e-04,\n",
       "        -2.99005653e-04, -1.88122212e-04,  1.28198400e-04,  1.49387852e-04,\n",
       "         1.44790058e-04,  2.41951275e-04,  1.84119664e-04, -1.45250247e-04,\n",
       "        -1.68047962e-04,  1.06877385e-04,  9.70733818e-05, -1.30799293e-04,\n",
       "         3.19082290e-04, -1.40507836e-04, -6.09138406e-05,  2.31793194e-04,\n",
       "        -9.91241177e-05, -1.66805752e-04, -1.04607359e-04, -1.88096747e-04,\n",
       "        -2.39474102e-04,  1.10708126e-04, -1.09821805e-04, -6.74745679e-05,\n",
       "        -1.17631229e-04,  2.25805052e-04, -1.12443551e-04, -1.95403598e-04,\n",
       "        -8.42562804e-05, -2.36248045e-04,  6.17521873e-05, -2.60810833e-04,\n",
       "         7.70915940e-05, -2.96744838e-05, -1.23503749e-04, -1.80463321e-04,\n",
       "         1.06403873e-04, -8.38235646e-05, -1.70905987e-04, -1.07771186e-04,\n",
       "        -2.74387217e-04,  1.52380861e-04,  2.26911492e-04,  1.88139093e-04,\n",
       "        -1.34445610e-04,  1.13204369e-04, -5.71697856e-05, -1.19741257e-04,\n",
       "        -2.24181436e-04,  4.67212230e-04, -1.30408618e-04,  1.51842643e-04,\n",
       "        -9.16450954e-05, -1.82423930e-04, -8.33093072e-05,  4.90888779e-05,\n",
       "        -2.29120371e-04, -1.27774809e-04,  1.50143227e-04,  1.56214577e-04,\n",
       "        -9.26805224e-05, -1.80352989e-04, -2.06621495e-04, -2.73633603e-04,\n",
       "         1.62661599e-04, -4.40290096e-05, -1.87296373e-05, -1.39124473e-04,\n",
       "         9.81049452e-05, -2.24428572e-04,  2.29488389e-04, -1.84810226e-04,\n",
       "        -2.50953075e-04, -1.21327699e-04, -1.12328366e-04,  1.84076271e-04,\n",
       "         1.93727130e-04, -2.20389862e-04, -8.08265322e-05, -9.83016798e-05,\n",
       "         7.11646935e-05, -2.77525483e-04, -2.12758969e-04, -1.41855868e-04,\n",
       "        -1.72351516e-04, -1.78255301e-04,  7.90486956e-06, -1.81676533e-05,\n",
       "         3.26187379e-04,  1.73868102e-04,  3.53445095e-04, -9.63067796e-05,\n",
       "         3.02886998e-04,  1.56479524e-04,  9.62760460e-05,  4.86694553e-05,\n",
       "         1.89297076e-04,  1.51884175e-04,  1.95641900e-04,  9.03366090e-05,\n",
       "        -1.80022456e-04, -1.42562363e-04, -1.69682156e-04, -8.89664225e-05],\n",
       "       dtype=float32),\n",
       " array([[-0.02397594, -0.00317004,  0.15278733, ..., -0.15395905,\n",
       "          0.11164801, -0.11960234],\n",
       "        [ 0.11944062,  0.174273  , -0.17033462, ..., -0.14445443,\n",
       "         -0.09592856, -0.13839135],\n",
       "        [-0.12085056,  0.01765765, -0.01042233, ...,  0.13509573,\n",
       "         -0.16413097, -0.20440267],\n",
       "        ...,\n",
       "        [-0.05067757, -0.10216302, -0.00617348, ...,  0.10343438,\n",
       "         -0.14835276, -0.15282013],\n",
       "        [-0.03358682,  0.10685205, -0.05587685, ...,  0.16966367,\n",
       "         -0.05250821, -0.14339021],\n",
       "        [-0.1878385 ,  0.2019424 , -0.00727462, ...,  0.18242405,\n",
       "          0.03875712,  0.0768605 ]], dtype=float32),\n",
       " array([ 5.4776134e-05, -1.2942957e-04,  1.6559445e-04, -1.7511663e-04,\n",
       "         1.7654039e-04,  1.6667430e-04, -2.3879033e-05, -7.1259215e-05,\n",
       "         2.5025547e-05, -9.8359502e-05], dtype=float32)]"
      ]
     },
     "execution_count": 68,
     "metadata": {},
     "output_type": "execute_result"
    }
   ],
   "source": [
    "model.get_weights()"
   ]
  },
  {
   "cell_type": "code",
   "execution_count": 40,
   "id": "450c06dd",
   "metadata": {},
   "outputs": [
    {
     "name": "stdout",
     "output_type": "stream",
     "text": [
      "313/313 [==============================] - 3s 10ms/step - loss: 2.2990 - accuracy: 0.1436\n",
      "Evaluation result on Test Data : Loss = 2.299020767211914, accuracy = 0.1436000019311905\n"
     ]
    }
   ],
   "source": [
    "#[test_loss, test_acc] = model.evaluate(test_x, test_y)\n",
    "#print(\"Evaluation result on Test Data : Loss = {}, accuracy = {}\".format(test_loss, test_acc))"
   ]
  },
  {
   "cell_type": "code",
   "execution_count": 69,
   "id": "d5e3de77",
   "metadata": {},
   "outputs": [
    {
     "data": {
      "text/plain": [
       "dict_keys(['loss', 'accuracy', 'val_loss', 'val_accuracy'])"
      ]
     },
     "execution_count": 69,
     "metadata": {},
     "output_type": "execute_result"
    }
   ],
   "source": [
    "model.history.history.keys()"
   ]
  },
  {
   "cell_type": "code",
   "execution_count": 70,
   "id": "45b734ee",
   "metadata": {},
   "outputs": [
    {
     "data": {
      "text/plain": [
       "Text(0.5, 1.0, 'Loss Curves')"
      ]
     },
     "execution_count": 70,
     "metadata": {},
     "output_type": "execute_result"
    },
    {
     "data": {
      "image/png": "[encoded data removed]",
      "text/plain": [
       "<Figure size 576x432 with 1 Axes>"
      ]
     },
     "metadata": {
      "needs_background": "light"
     },
     "output_type": "display_data"
    }
   ],
   "source": [
    "#Plot the Loss Curves\n",
    "plt.figure(figsize=[8,6])\n",
    "plt.plot(model.history.history['loss'],'r',linewidth=3.0)\n",
    "plt.plot(model.history.history['val_loss'],'b',linewidth=3.0)\n",
    "plt.legend(['Training loss', 'Validation Loss'],fontsize=18)\n",
    "plt.xlabel('Epochs ',fontsize=16)\n",
    "plt.ylabel('Loss',fontsize=16)\n",
    "plt.title('Loss Curves',fontsize=16)"
   ]
  },
  {
   "cell_type": "code",
   "execution_count": 71,
   "id": "2dc55134",
   "metadata": {},
   "outputs": [
    {
     "data": {
      "text/plain": [
       "Text(0.5, 1.0, 'Accuracy Curves')"
      ]
     },
     "execution_count": 71,
     "metadata": {},
     "output_type": "execute_result"
    },
    {
     "data": {
      "image/png": "[encoded data removed]",
      "text/plain": [
       "<Figure size 576x432 with 1 Axes>"
      ]
     },
     "metadata": {
      "needs_background": "light"
     },
     "output_type": "display_data"
    }
   ],
   "source": [
    "#Plot the Accuracy Curves\n",
    "plt.figure(figsize=[8,6]) \n",
    "plt.plot(model.history.history['accuracy'],'r',linewidth=3.0) \n",
    "plt.plot(model.history.history['val_accuracy'],'b',linewidth=3.0) \n",
    "plt.legend(['Training Accuracy', 'Validation Accuracy'],fontsize=18) \n",
    "plt.xlabel('Epochs ',fontsize=16) \n",
    "plt.ylabel('Accuracy',fontsize=16) \n",
    "plt.title('Accuracy Curves',fontsize=16)"
   ]
  },
  {
   "cell_type": "code",
   "execution_count": 72,
   "id": "f8601601",
   "metadata": {},
   "outputs": [
    {
     "name": "stdout",
     "output_type": "stream",
     "text": [
      "313/313 [==============================] - 2s 6ms/step\n"
     ]
    },
    {
     "data": {
      "text/plain": [
       "array([[2.5044643e-05, 5.6274502e-07, 1.4618915e-13, ..., 9.9992359e-01,\n",
       "        3.2719337e-05, 1.7909937e-05],\n",
       "       [3.4338512e-14, 5.9991689e-05, 2.7457401e-01, ..., 1.0048988e-04,\n",
       "        4.6859361e-09, 4.1204589e-13],\n",
       "       [1.2256487e-06, 7.1054959e-01, 8.1623904e-04, ..., 4.8150778e-05,\n",
       "        2.8845167e-01, 7.8390922e-10],\n",
       "       ...,\n",
       "       [2.7749829e-06, 8.2836429e-12, 6.8160424e-09, ..., 2.1836011e-01,\n",
       "        9.9500758e-06, 1.2794471e-02],\n",
       "       [7.4435853e-08, 3.1477848e-13, 1.2815282e-10, ..., 8.9120731e-05,\n",
       "        1.2588905e-03, 2.0767717e-10],\n",
       "       [1.4602809e-09, 9.8577062e-23, 8.5824108e-01, ..., 2.5594608e-07,\n",
       "        1.3487872e-11, 4.0647667e-09]], dtype=float32)"
      ]
     },
     "execution_count": 72,
     "metadata": {},
     "output_type": "execute_result"
    }
   ],
   "source": [
    "model.predict(test_x)"
   ]
  },
  {
   "cell_type": "code",
   "execution_count": 73,
   "id": "58fff284",
   "metadata": {},
   "outputs": [
    {
     "data": {
      "text/plain": [
       "array([7, 2, 1, ..., 4, 5, 6], dtype=int64)"
      ]
     },
     "execution_count": 73,
     "metadata": {},
     "output_type": "execute_result"
    }
   ],
   "source": [
    "np.argmax(test_y, axis=1)"
   ]
  },
  {
   "cell_type": "code",
   "execution_count": 51,
   "id": "348f73df",
   "metadata": {},
   "outputs": [],
   "source": [
    "from sklearn.metrics import classification_report"
   ]
  },
  {
   "cell_type": "code",
   "execution_count": 76,
   "id": "1d3f3d02",
   "metadata": {},
   "outputs": [
    {
     "name": "stdout",
     "output_type": "stream",
     "text": [
      "Epoch 1/5\n",
      "235/235 [==============================] - 41s 172ms/step - loss: 1.9644 - accuracy: 0.8146 - val_loss: 0.1337 - val_accuracy: 0.9589\n",
      "Epoch 2/5\n",
      "235/235 [==============================] - 48s 204ms/step - loss: 0.1664 - accuracy: 0.9487 - val_loss: 0.1122 - val_accuracy: 0.9643\n",
      "Epoch 3/5\n",
      "235/235 [==============================] - 46s 197ms/step - loss: 0.1231 - accuracy: 0.9617 - val_loss: 0.0759 - val_accuracy: 0.9758\n",
      "Epoch 4/5\n",
      "235/235 [==============================] - 46s 196ms/step - loss: 0.1010 - accuracy: 0.9691 - val_loss: 0.0878 - val_accuracy: 0.9733\n",
      "Epoch 5/5\n",
      "235/235 [==============================] - 45s 190ms/step - loss: 0.0906 - accuracy: 0.9723 - val_loss: 0.0658 - val_accuracy: 0.9787\n",
      "313/313 [==============================] - 3s 8ms/step - loss: 0.0658 - accuracy: 0.9787\n"
     ]
    },
    {
     "data": {
      "text/plain": [
       "[0.06583103537559509, 0.9786999821662903]"
      ]
     },
     "execution_count": 76,
     "metadata": {},
     "output_type": "execute_result"
    }
   ],
   "source": [
    "from tensorflow.keras.preprocessing.image import ImageDataGenerator\n",
    " \n",
    "# Initialize the model\n",
    "# Model initialization - Network structure\n",
    "model2 = Sequential()  # Initialization of network -Inputlayer\n",
    "model2.add(Conv2D(32, kernel_size=(3, 3), activation='relu', input_shape=input_shape)) # Convolution layer 1\n",
    "model2.add(Conv2D(64, kernel_size=(3, 3), activation='relu'))                          #Convolution Layer 2\n",
    "model2.add(MaxPooling2D(pool_size=(2, 2)))                                             #Pooling layer\n",
    "#model.add(Dropout(0.25))                                                              #Dropout layer\n",
    "model2.add(Flatten())                                                                  #Flatten Layer\n",
    "model2.add(Dense(128, activation='relu'))                                              #Fully connected layer\n",
    "#model.add(Dropout(0.5))                                                               #Dropout layer\n",
    "model2.add(Dense(num_classes, activation='softmax'))                                   #Output Layer\n",
    "\n",
    "model2.compile(optimizer='rmsprop', loss='categorical_crossentropy', metrics=['accuracy'])\n",
    "\n",
    "# Set training process params\n",
    "batch_size = 256\n",
    "epochs = 5\n",
    "\n",
    "# Define transformations for train data\n",
    "datagen = ImageDataGenerator(\n",
    "        width_shift_range=0.1,  # randomly shift images horizontally (fraction of total width)\n",
    "        height_shift_range=0.1,  # randomly shift images vertically (fraction of total height)\n",
    "        horizontal_flip=True,  # randomly flip images\n",
    "        vertical_flip=False)  # randomly flip images\n",
    "\n",
    "# Fit the model on the batches generated by datagen.flow().\n",
    "history2 = model2.fit(datagen.flow(train_x, train_y, batch_size=batch_size),\n",
    "                      steps_per_epoch=int(np.ceil(train_x.shape[0] / float(batch_size))),\n",
    "                      epochs=epochs,\n",
    "                      validation_data=(test_x, test_y),\n",
    "                      workers=4\n",
    "           )\n",
    "\n",
    "model2.evaluate(test_x, test_y)"
   ]
  },
  {
   "cell_type": "code",
   "execution_count": 77,
   "id": "ab651660",
   "metadata": {},
   "outputs": [
    {
     "data": {
      "text/plain": [
       "Text(0.5, 1.0, 'Accuracy Curves')"
      ]
     },
     "execution_count": 77,
     "metadata": {},
     "output_type": "execute_result"
    },
    {
     "data": {
      "image/png": "[encoded data removed]",
      "text/plain": [
       "<Figure size 576x432 with 1 Axes>"
      ]
     },
     "metadata": {
      "needs_background": "light"
     },
     "output_type": "display_data"
    },
    {
     "data": {
      "image/png": "[encoded data removed]",
      "text/plain": [
       "<Figure size 576x432 with 1 Axes>"
      ]
     },
     "metadata": {
      "needs_background": "light"
     },
     "output_type": "display_data"
    }
   ],
   "source": [
    "# Loss Curves\n",
    "plt.figure(figsize=[8,6])\n",
    "plt.plot(history2.history['loss'],'r',linewidth=3.0)\n",
    "plt.plot(history2.history['val_loss'],'b',linewidth=3.0)\n",
    "plt.legend(['Training loss', 'Validation Loss'],fontsize=18)\n",
    "plt.xlabel('Epochs ',fontsize=16)\n",
    "plt.ylabel('Loss',fontsize=16)\n",
    "plt.title('Loss Curves',fontsize=16)\n",
    "\n",
    "# Accuracy Curves\n",
    "plt.figure(figsize=[8,6])\n",
    "plt.plot(history2.history['accuracy'],'r',linewidth=3.0)\n",
    "plt.plot(history2.history['val_accuracy'],'b',linewidth=3.0)\n",
    "plt.legend(['Training Accuracy', 'Validation Accuracy'],fontsize=18)\n",
    "plt.xlabel('Epochs ',fontsize=16)\n",
    "plt.ylabel('Accuracy',fontsize=16)\n",
    "plt.title('Accuracy Curves',fontsize=16)"
   ]
  }
 ],
 "metadata": {
  "kernelspec": {
   "display_name": "Python 3 (ipykernel)",
   "language": "python",
   "name": "python3"
  },
  "language_info": {
   "codemirror_mode": {
    "name": "ipython",
    "version": 3
   },
   "file_extension": ".py",
   "mimetype": "text/x-python",
   "name": "python",
   "nbconvert_exporter": "python",
   "pygments_lexer": "ipython3",
   "version": "3.9.7"
  }
 },
 "nbformat": 4,
 "nbformat_minor": 5
}
